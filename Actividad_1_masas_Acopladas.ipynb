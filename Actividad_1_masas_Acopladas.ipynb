{
  "nbformat": 4,
  "nbformat_minor": 0,
  "metadata": {
    "colab": {
      "name": "Actividad_1_masas_Acopladas.ipynb",
      "provenance": [],
      "collapsed_sections": []
    },
    "kernelspec": {
      "name": "python3",
      "display_name": "Python 3"
    }
  },
  "cells": [
    {
      "cell_type": "markdown",
      "metadata": {
        "id": "3wlcxl6qfdi7",
        "colab_type": "text"
      },
      "source": [
        "# Tarea 1: Resortes acoplados\n",
        "*Jesús Eduardo Hermosilla Díaz*"
      ]
    },
    {
      "cell_type": "markdown",
      "metadata": {
        "id": "J0GDXMiFfvJD",
        "colab_type": "text"
      },
      "source": [
        "## Dos masas acopladas"
      ]
    },
    {
      "cell_type": "markdown",
      "metadata": {
        "id": "5QkN3lb982Mh",
        "colab_type": "text"
      },
      "source": [
        "Dado un sistema de dos masas acopladas, el hamiltoniano que describe al sistema es: \\\\\n",
        "\\begin{align}\n",
        "H &=\\frac{p_{1}^{2}}{2 m}+\\frac{p_{2}^{2}}{2 m}+\\frac{1}{2} k_1x_1^{2}+\\frac{1}{2} k_2(x_{2}-x_{1})^{2}+\\frac{1}{2} k_3x_2^{2} \\\\\n",
        "q_{a1} &= \\dot{q_{0}} =\\frac{1}{m_1}p_{1}\\\\\n",
        "q_{b1} &= \\dot{q_0} =\\frac{1}{m_2}p_2 \\\\\n",
        "q_{a0} &= -k_1x_1 + k_2(x_2 - x_1)  = -x_1(k_1 +k_2) +k_2 x_2\\\\\n",
        "q_{b0} &= -k_2(x_2 -x_1) - k_3x_2  = k_2x_1-x_2(k_2 +k_3)\\\\\n",
        "\\end{align} \\\\\n",
        "$\\vec{q}=\\left[\\begin{array}{l}{x} \\\\ {u}\\end{array}\\right]=\\left[\\begin{array}{l}{q_{0}} \\\\ {q_{1}}\\end{array}\\right]\n",
        "$"
      ]
    },
    {
      "cell_type": "code",
      "metadata": {
        "id": "EzD8TrHREJXw",
        "colab_type": "code",
        "colab": {}
      },
      "source": [
        "import numpy as np\n",
        "import matplotlib.pyplot as plt\n",
        "from timeit import default_timer as timer"
      ],
      "execution_count": 0,
      "outputs": []
    },
    {
      "cell_type": "code",
      "metadata": {
        "id": "3Us474BAOLQ2",
        "colab_type": "code",
        "colab": {}
      },
      "source": [
        "'''Constantes '''\n",
        "k1 = 1.0\n",
        "k2= 1.0\n",
        "k3 = 1.0\n",
        "m1= 1.0\n",
        "m2= 1.0"
      ],
      "execution_count": 0,
      "outputs": []
    },
    {
      "cell_type": "code",
      "metadata": {
        "id": "h5iQ3t0KEVXa",
        "colab_type": "code",
        "colab": {}
      },
      "source": [
        "def Q_Dot(x): \n",
        "  x1, x2, p1, p2 = x[0], x[1], x[2], x[3]\n",
        "  \n",
        "  x1_dot = p1/m1\n",
        "  x2_dot = p2/m2\n",
        "  p1_dot = k2*(x2-x1)-k1*x1\n",
        "  p2_dot = -k2*(x2-x1)-k3*x2\n",
        "\n",
        "  return np.asarray([x1_dot,x2_dot,p1_dot,p2_dot])"
      ],
      "execution_count": 0,
      "outputs": []
    },
    {
      "cell_type": "code",
      "metadata": {
        "id": "upucbMtbVgQW",
        "colab_type": "code",
        "colab": {}
      },
      "source": [
        "def paso_euler(f, t_n, q_n, dt): \n",
        "  q_dot = f(t_n, q_n)\n",
        "  q_n_mas_1 = q_n + dt*q_dot\n",
        "  return q_n_mas_1"
      ],
      "execution_count": 0,
      "outputs": []
    },
    {
      "cell_type": "code",
      "metadata": {
        "id": "9yM7kB84EYR_",
        "colab_type": "code",
        "colab": {}
      },
      "source": [
        "def integral(f, t, q_0, dt): \n",
        "  t_0, t_f = t \n",
        "  n = int((t_f-t_0)/dt)  \n",
        "  d = len(q_0)\n",
        "\n",
        "  q_tray= np.zeros((n+1, d))\n",
        "  E = np.zeros(n+1)\n",
        "  t = np.linspace(t_0, t_f, n+1)\n",
        "  \n",
        "  q_tray[0,:] = q_0\n",
        "  E[0] = (0.5/m1)*(q_tray[0,2]**2)+(0.5/m2)*(q_tray[0,3]**2)+0.5*k1*(q_tray[0,0]**2)+0.5*k3*(q_tray[0,1]**2)+0.5*k2*((q_tray[0,1]-q_tray[0,0])**2)\n",
        "  \n",
        "  for i in range(n):\n",
        "\n",
        "    q_tray[i+1,:] = paso_euler(f, t[i], q_tray[i,:], dt)\n",
        "  \n",
        "    E[i+1] = (0.5/m1)*(q_tray[i,2]**2)+(0.5/m2)*(q_tray[i,3]**2)+0.5*k1*(q_tray[i,0]**2)+0.5*k3*(q_tray[i,1]**2)+0.5*k2*((q_tray[i,1]-q_tray[i,0])**2)\n",
        "  \n",
        "  return t, q_tray, E\n"
      ],
      "execution_count": 0,
      "outputs": []
    },
    {
      "cell_type": "code",
      "metadata": {
        "id": "y9YTLskciKNt",
        "colab_type": "code",
        "colab": {}
      },
      "source": [
        "def Q_Dot_t(t, x): \n",
        "  return Q_Dot(x)"
      ],
      "execution_count": 0,
      "outputs": []
    },
    {
      "cell_type": "markdown",
      "metadata": {
        "id": "GbjbJPOkgY5j",
        "colab_type": "text"
      },
      "source": [
        "### a) Tiempo de ejecución para diferentes condiciones iniciales"
      ]
    },
    {
      "cell_type": "code",
      "metadata": {
        "id": "zZB7HWsTEuqe",
        "colab_type": "code",
        "outputId": "1b6f07d8-e36c-4557-f492-9ec10e6b88bf",
        "colab": {
          "base_uri": "https://localhost:8080/",
          "height": 35
        }
      },
      "source": [
        "start = timer()\n",
        "t1, q1_tray, E1 = integral(Q_Dot_t, [0,100], [0.5, 1.5, 0.7, 0.], 0.00005)\n",
        "end = timer()\n",
        "print(\"Tiempo de ejecución:\", end - start, \"segundos\"  )"
      ],
      "execution_count": 645,
      "outputs": [
        {
          "output_type": "stream",
          "text": [
            "Tiempo de ejecución: 24.77831992600113 segundos\n"
          ],
          "name": "stdout"
        }
      ]
    },
    {
      "cell_type": "code",
      "metadata": {
        "id": "1gLxze_rbr2n",
        "colab_type": "code",
        "colab": {
          "base_uri": "https://localhost:8080/",
          "height": 35
        },
        "outputId": "6d0c9774-3c3b-420b-d01c-0fd0a5f956b7"
      },
      "source": [
        "start = timer()\n",
        "t2, q2_tray, E2 = integrador_simpleE(campo_t, [0,100], [1.5, 3.5, 0., 0.], 0.00005)\n",
        "end = timer()\n",
        "print(\"Tiempo de ejecución:\", end - start, \"segundos\"  )"
      ],
      "execution_count": 629,
      "outputs": [
        {
          "output_type": "stream",
          "text": [
            "Tiempo de ejecución: 24.940200195997022 segundos\n"
          ],
          "name": "stdout"
        }
      ]
    },
    {
      "cell_type": "code",
      "metadata": {
        "id": "S8ixQqsLbrXY",
        "colab_type": "code",
        "colab": {
          "base_uri": "https://localhost:8080/",
          "height": 35
        },
        "outputId": "1e216955-2288-4066-f774-c0b6e7a2a626"
      },
      "source": [
        "start = timer()\n",
        "t3, q3_tray, E3 = integrador_simpleE(campo_t, [0,100], [2.0, 1.5, 0.2, 1.3], 0.00005)\n",
        "end = timer()\n",
        "print(\"Tiempo de ejecución:\", end - start, \"segundos\"  )"
      ],
      "execution_count": 630,
      "outputs": [
        {
          "output_type": "stream",
          "text": [
            "Tiempo de ejecución: 24.886848590002046 segundos\n"
          ],
          "name": "stdout"
        }
      ]
    },
    {
      "cell_type": "markdown",
      "metadata": {
        "id": "dgD927RxfdTw",
        "colab_type": "text"
      },
      "source": [
        "### b) Mostrar que la energia se conserva"
      ]
    },
    {
      "cell_type": "code",
      "metadata": {
        "id": "vI3BOYhaYPHp",
        "colab_type": "code",
        "colab": {
          "base_uri": "https://localhost:8080/",
          "height": 283
        },
        "outputId": "a8077fc2-2620-4a75-e75c-3cf896f2e202"
      },
      "source": [
        "plt.plot(t1, qe1_tray[:,0])\n",
        "plt.plot(t1, qe1_tray[:,1])\n",
        "plt.plot(t1, E1)"
      ],
      "execution_count": 631,
      "outputs": [
        {
          "output_type": "execute_result",
          "data": {
            "text/plain": [
              "[<matplotlib.lines.Line2D at 0x7fd526571048>]"
            ]
          },
          "metadata": {
            "tags": []
          },
          "execution_count": 631
        },
        {
          "output_type": "display_data",
          "data": {
            "image/png": "[encoded data removed]",
            "text/plain": [
              "<Figure size 432x288 with 1 Axes>"
            ]
          },
          "metadata": {
            "tags": []
          }
        }
      ]
    },
    {
      "cell_type": "markdown",
      "metadata": {
        "id": "shXx2d0LiCC3",
        "colab_type": "text"
      },
      "source": [
        "### b) Energía total del sistema"
      ]
    },
    {
      "cell_type": "markdown",
      "metadata": {
        "id": "8AWrVHTGgSkp",
        "colab_type": "text"
      },
      "source": [
        "## c) N masas acopladas"
      ]
    },
    {
      "cell_type": "markdown",
      "metadata": {
        "id": "xdo0F-_PVN2F",
        "colab_type": "text"
      },
      "source": [
        "El hamiltoniano del sistema es:\n",
        "\\begin{align}\n",
        "\\mathcal{H} &=\\sum_{i=1}^{3} \\frac{m v_{i}^{2}}{2}+\\sum_{i=0}^{3} \\frac{\\kappa}{2}\\left(u_{i+1}-u_{i}\\right)^{2} \\\\\n",
        "\\dot{u}_{i}& = \\frac{\\partial \\mathcal{H}}{\\partial p_{i}}=\\frac{p_{i}}{m}\\\\\n",
        "\\dot{p}_{i}& =-\\frac{\\partial \\mathcal{H}}{\\partial u_{i}}=\\kappa( u_{i+1}-2 u_{i}+u_{i-1})\n",
        "\\end{align}"
      ]
    },
    {
      "cell_type": "code",
      "metadata": {
        "id": "7sXNV_YxXLsl",
        "colab_type": "code",
        "colab": {
          "base_uri": "https://localhost:8080/",
          "height": 71
        },
        "outputId": "fb29b036-1a2c-4c81-c37b-0c81294b22fd"
      },
      "source": [
        "'''Constantes '''\n",
        "N = int(input(\" Numero de masas acopladas: \"))\n",
        "k = float(input(\" Constante eláástica de los resortes: \"))\n",
        "m = float (input(\"Masa de los bloques: \"))"
      ],
      "execution_count": 646,
      "outputs": [
        {
          "output_type": "stream",
          "text": [
            " Numero de masas acopladas: 6\n",
            " Constante eláástica de los resortes: 1\n",
            "Masa de los bloques: 1\n"
          ],
          "name": "stdout"
        }
      ]
    },
    {
      "cell_type": "markdown",
      "metadata": {
        "id": "JYnFmyN2ihWJ",
        "colab_type": "text"
      },
      "source": [
        " Suponiendo que los extremos están fijos los desplazamientos \n",
        " $u_{0}$ y $u_{N+1}$ son cero."
      ]
    },
    {
      "cell_type": "code",
      "metadata": {
        "id": "DJo-RGr5WL8Y",
        "colab_type": "code",
        "colab": {}
      },
      "source": [
        "def U_Dot(t,U): \n",
        "  ''' Vector U'''\n",
        "  U[0] = 0\n",
        "  U[N+1] = 0\n",
        "  U[N+2] = 0\n",
        "  U[2*N+3] = 0\n",
        "  u_dot=np.zeros(2*N+4) \n",
        "  for i in range(1,N+1):\n",
        "    u_dot[i] = U[N+2+i]/m\n",
        "    u_dot[N+2+i] = k*(U[i+1]-2*U[i]+U[i-1])\n",
        "  return u_dot"
      ],
      "execution_count": 0,
      "outputs": []
    },
    {
      "cell_type": "code",
      "metadata": {
        "id": "NCXC5yCSnsS9",
        "colab_type": "code",
        "colab": {}
      },
      "source": [
        "def paso_euler(f, t_n, u_n, dt):\n",
        "  u_dot = f(t_n, u_n)\n",
        "  u_n_mas_1 = u_n + dt*u_dot\n",
        "  return u_n_mas_1"
      ],
      "execution_count": 0,
      "outputs": []
    },
    {
      "cell_type": "code",
      "metadata": {
        "id": "MQCrf_yyoS85",
        "colab_type": "code",
        "colab": {}
      },
      "source": [
        "def campo(f, t, u_0, dt):\n",
        "  t_0, t_f = t \n",
        "  n = int((t_f-t_0)/dt)  \n",
        "  d = len(u_0)\n",
        "  \n",
        "  u_tray= np.zeros((n+1, d))\n",
        "  t = np.linspace(t_0, t_f, n+1)\n",
        "  u_tray[0,:] = u_0\n",
        "  \n",
        "  for i in range(n):\n",
        "\n",
        "    u_tray[i+1,:] = paso_euler(f, t[i], u_tray[i,:], dt)\n",
        "\n",
        "  return t, u_tray"
      ],
      "execution_count": 0,
      "outputs": []
    },
    {
      "cell_type": "code",
      "metadata": {
        "id": "EiKVkCOUo8z_",
        "colab_type": "code",
        "colab": {}
      },
      "source": [
        "u0= np.random.rand(2*N+4)"
      ],
      "execution_count": 0,
      "outputs": []
    },
    {
      "cell_type": "code",
      "metadata": {
        "id": "mvDTflivulWi",
        "colab_type": "code",
        "colab": {
          "base_uri": "https://localhost:8080/",
          "height": 35
        },
        "outputId": "6d5a18bf-ff55-4b95-88c1-b4e098f404a7"
      },
      "source": [
        "start = timer()\n",
        "t, u_tray=campo(U_Dot, [0,100], u0, 0.0005)\n",
        "end = timer()\n",
        "print(\"Tiempo de ejecución:\", end - start, \"segundos\"  )"
      ],
      "execution_count": 665,
      "outputs": [
        {
          "output_type": "stream",
          "text": [
            "Tiempo de ejecución: 3.096363360993564 segundos\n"
          ],
          "name": "stdout"
        }
      ]
    },
    {
      "cell_type": "code",
      "metadata": {
        "id": "ivJeNHfnpIpo",
        "colab_type": "code",
        "colab": {
          "base_uri": "https://localhost:8080/",
          "height": 283
        },
        "outputId": "8bd5bfc2-3130-477a-b00b-73a2117e4e23"
      },
      "source": [
        "plt.plot(t, u_tray[:,1])"
      ],
      "execution_count": 666,
      "outputs": [
        {
          "output_type": "execute_result",
          "data": {
            "text/plain": [
              "[<matplotlib.lines.Line2D at 0x7fd52685f8d0>]"
            ]
          },
          "metadata": {
            "tags": []
          },
          "execution_count": 666
        },
        {
          "output_type": "display_data",
          "data": {
            "image/png": "[encoded data removed]",
            "text/plain": [
              "<Figure size 432x288 with 1 Axes>"
            ]
          },
          "metadata": {
            "tags": []
          }
        }
      ]
    },
    {
      "cell_type": "code",
      "metadata": {
        "id": "nMbGuWuJkOLk",
        "colab_type": "code",
        "colab": {}
      },
      "source": [
        ""
      ],
      "execution_count": 0,
      "outputs": []
    }
  ]
}